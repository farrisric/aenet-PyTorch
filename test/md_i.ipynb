{
 "cells": [
  {
   "cell_type": "code",
   "execution_count": 4,
   "metadata": {},
   "outputs": [
    {
     "name": "stderr",
     "output_type": "stream",
     "text": [
      "/nethome/farri002/miniconda3/envs/aims/lib/python3.11/site-packages/ase/calculators/lammpsrun.py:191: UserWarning: You are using an old syntax to set 'parameters'.\n",
      "Please use LAMMPSRUN.set().\n",
      "  warnings.warn(self.legacy_warn_string.format(\"parameters\"))\n",
      "Exception in thread Thread-6 (read_lammps_log):\n",
      "Traceback (most recent call last):\n",
      "  File \"/nethome/farri002/miniconda3/envs/aims/lib/python3.11/threading.py\", line 1038, in _bootstrap_inner\n",
      "    self.run()\n",
      "  File \"/nethome/farri002/miniconda3/envs/aims/lib/python3.11/threading.py\", line 975, in run\n",
      "    self._target(*self._args, **self._kwargs)\n",
      "  File \"/nethome/farri002/miniconda3/envs/aims/lib/python3.11/site-packages/ase/calculators/lammpsrun.py\", line 586, in read_lammps_log\n",
      "    raise RuntimeError(f'LAMMPS exits with error message: {line}')\n",
      "RuntimeError: LAMMPS exits with error message: ERROR: Did not assign all atoms correctly (../read_data.cpp:1258)\n",
      "\n"
     ]
    },
    {
     "ename": "RuntimeError",
     "evalue": "Failed to retrieve any thermo_style-output",
     "output_type": "error",
     "traceback": [
      "\u001b[0;31m---------------------------------------------------------------------------\u001b[0m",
      "\u001b[0;31mRuntimeError\u001b[0m                              Traceback (most recent call last)",
      "Cell \u001b[0;32mIn[4], line 22\u001b[0m\n\u001b[1;32m     19\u001b[0m \u001b[39m# Describe the interatomic interactions with the Effective Medium Theory\u001b[39;00m\n\u001b[1;32m     20\u001b[0m atoms\u001b[39m.\u001b[39mcalc \u001b[39m=\u001b[39m lammps\n\u001b[0;32m---> 22\u001b[0m \u001b[39mprint\u001b[39m(atoms\u001b[39m.\u001b[39;49mget_potential_energy())\n\u001b[1;32m     24\u001b[0m \u001b[39m# Do a quick relaxation of the cluster\u001b[39;00m\n\u001b[1;32m     25\u001b[0m \n\u001b[1;32m     26\u001b[0m \u001b[39m# Set the momenta corresponding to T=1200K\u001b[39;00m\n\u001b[1;32m     27\u001b[0m MaxwellBoltzmannDistribution(atoms, temperature_K\u001b[39m=\u001b[39m\u001b[39m1200\u001b[39m)\n",
      "File \u001b[0;32m~/miniconda3/envs/aims/lib/python3.11/site-packages/ase/atoms.py:731\u001b[0m, in \u001b[0;36mAtoms.get_potential_energy\u001b[0;34m(self, force_consistent, apply_constraint)\u001b[0m\n\u001b[1;32m    728\u001b[0m     energy \u001b[39m=\u001b[39m \u001b[39mself\u001b[39m\u001b[39m.\u001b[39m_calc\u001b[39m.\u001b[39mget_potential_energy(\n\u001b[1;32m    729\u001b[0m         \u001b[39mself\u001b[39m, force_consistent\u001b[39m=\u001b[39mforce_consistent)\n\u001b[1;32m    730\u001b[0m \u001b[39melse\u001b[39;00m:\n\u001b[0;32m--> 731\u001b[0m     energy \u001b[39m=\u001b[39m \u001b[39mself\u001b[39;49m\u001b[39m.\u001b[39;49m_calc\u001b[39m.\u001b[39;49mget_potential_energy(\u001b[39mself\u001b[39;49m)\n\u001b[1;32m    732\u001b[0m \u001b[39mif\u001b[39;00m apply_constraint:\n\u001b[1;32m    733\u001b[0m     \u001b[39mfor\u001b[39;00m constraint \u001b[39min\u001b[39;00m \u001b[39mself\u001b[39m\u001b[39m.\u001b[39mconstraints:\n",
      "File \u001b[0;32m~/miniconda3/envs/aims/lib/python3.11/site-packages/ase/calculators/calculator.py:709\u001b[0m, in \u001b[0;36mCalculator.get_potential_energy\u001b[0;34m(self, atoms, force_consistent)\u001b[0m\n\u001b[1;32m    708\u001b[0m \u001b[39mdef\u001b[39;00m \u001b[39mget_potential_energy\u001b[39m(\u001b[39mself\u001b[39m, atoms\u001b[39m=\u001b[39m\u001b[39mNone\u001b[39;00m, force_consistent\u001b[39m=\u001b[39m\u001b[39mFalse\u001b[39;00m):\n\u001b[0;32m--> 709\u001b[0m     energy \u001b[39m=\u001b[39m \u001b[39mself\u001b[39;49m\u001b[39m.\u001b[39;49mget_property(\u001b[39m'\u001b[39;49m\u001b[39menergy\u001b[39;49m\u001b[39m'\u001b[39;49m, atoms)\n\u001b[1;32m    710\u001b[0m     \u001b[39mif\u001b[39;00m force_consistent:\n\u001b[1;32m    711\u001b[0m         \u001b[39mif\u001b[39;00m \u001b[39m'\u001b[39m\u001b[39mfree_energy\u001b[39m\u001b[39m'\u001b[39m \u001b[39mnot\u001b[39;00m \u001b[39min\u001b[39;00m \u001b[39mself\u001b[39m\u001b[39m.\u001b[39mresults:\n",
      "File \u001b[0;32m~/miniconda3/envs/aims/lib/python3.11/site-packages/ase/calculators/calculator.py:737\u001b[0m, in \u001b[0;36mCalculator.get_property\u001b[0;34m(self, name, atoms, allow_calculation)\u001b[0m\n\u001b[1;32m    735\u001b[0m     \u001b[39mif\u001b[39;00m \u001b[39mnot\u001b[39;00m allow_calculation:\n\u001b[1;32m    736\u001b[0m         \u001b[39mreturn\u001b[39;00m \u001b[39mNone\u001b[39;00m\n\u001b[0;32m--> 737\u001b[0m     \u001b[39mself\u001b[39;49m\u001b[39m.\u001b[39;49mcalculate(atoms, [name], system_changes)\n\u001b[1;32m    739\u001b[0m \u001b[39mif\u001b[39;00m name \u001b[39mnot\u001b[39;00m \u001b[39min\u001b[39;00m \u001b[39mself\u001b[39m\u001b[39m.\u001b[39mresults:\n\u001b[1;32m    740\u001b[0m     \u001b[39m# For some reason the calculator was not able to do what we want,\u001b[39;00m\n\u001b[1;32m    741\u001b[0m     \u001b[39m# and that is OK.\u001b[39;00m\n\u001b[1;32m    742\u001b[0m     \u001b[39mraise\u001b[39;00m PropertyNotImplementedError(\u001b[39m'\u001b[39m\u001b[39m{}\u001b[39;00m\u001b[39m not present in this \u001b[39m\u001b[39m'\u001b[39m\n\u001b[1;32m    743\u001b[0m                                       \u001b[39m'\u001b[39m\u001b[39mcalculation\u001b[39m\u001b[39m'\u001b[39m\u001b[39m.\u001b[39mformat(name))\n",
      "File \u001b[0;32m~/miniconda3/envs/aims/lib/python3.11/site-packages/ase/calculators/lammpsrun.py:321\u001b[0m, in \u001b[0;36mLAMMPS.calculate\u001b[0;34m(self, atoms, properties, system_changes)\u001b[0m\n\u001b[1;32m    319\u001b[0m     system_changes \u001b[39m=\u001b[39m all_changes\n\u001b[1;32m    320\u001b[0m Calculator\u001b[39m.\u001b[39mcalculate(\u001b[39mself\u001b[39m, atoms, properties, system_changes)\n\u001b[0;32m--> 321\u001b[0m \u001b[39mself\u001b[39;49m\u001b[39m.\u001b[39;49mrun()\n",
      "File \u001b[0;32m~/miniconda3/envs/aims/lib/python3.11/site-packages/ase/calculators/lammpsrun.py:488\u001b[0m, in \u001b[0;36mLAMMPS.run\u001b[0;34m(self, set_atoms)\u001b[0m\n\u001b[1;32m    486\u001b[0m \u001b[39m# A few sanity checks\u001b[39;00m\n\u001b[1;32m    487\u001b[0m \u001b[39mif\u001b[39;00m \u001b[39mlen\u001b[39m(\u001b[39mself\u001b[39m\u001b[39m.\u001b[39mthermo_content) \u001b[39m==\u001b[39m \u001b[39m0\u001b[39m:\n\u001b[0;32m--> 488\u001b[0m     \u001b[39mraise\u001b[39;00m \u001b[39mRuntimeError\u001b[39;00m(\u001b[39m\"\u001b[39m\u001b[39mFailed to retrieve any thermo_style-output\u001b[39m\u001b[39m\"\u001b[39m)\n\u001b[1;32m    489\u001b[0m \u001b[39mif\u001b[39;00m \u001b[39mint\u001b[39m(\u001b[39mself\u001b[39m\u001b[39m.\u001b[39mthermo_content[\u001b[39m-\u001b[39m\u001b[39m1\u001b[39m][\u001b[39m\"\u001b[39m\u001b[39matoms\u001b[39m\u001b[39m\"\u001b[39m]) \u001b[39m!=\u001b[39m \u001b[39mlen\u001b[39m(\u001b[39mself\u001b[39m\u001b[39m.\u001b[39matoms):\n\u001b[1;32m    490\u001b[0m     \u001b[39m# This obviously shouldn't happen, but if prism.fold_...() fails,\u001b[39;00m\n\u001b[1;32m    491\u001b[0m     \u001b[39m# it could\u001b[39;00m\n\u001b[1;32m    492\u001b[0m     \u001b[39mraise\u001b[39;00m \u001b[39mRuntimeError\u001b[39;00m(\u001b[39m\"\u001b[39m\u001b[39mAtoms have gone missing\u001b[39m\u001b[39m\"\u001b[39m)\n",
      "\u001b[0;31mRuntimeError\u001b[0m: Failed to retrieve any thermo_style-output"
     ]
    }
   ],
   "source": [
    "\"\"\"Demonstrates molecular dynamics for isolated particles.\"\"\"\n",
    "from ase.cluster.cubic import FaceCenteredCubic\n",
    "from ase.optimize import QuasiNewton\n",
    "from ase.md.velocitydistribution import (MaxwellBoltzmannDistribution,\n",
    "                                         Stationary, ZeroRotation)\n",
    "from ase.md.verlet import VelocityVerlet\n",
    "from ase import units\n",
    "from ase.calculators.emt import EMT\n",
    "from ase.io import read\n",
    "from ase.calculators.lammpsrun import LAMMPS\n",
    "\n",
    "atoms = read('moldyn4.traj')\n",
    "\n",
    "parameters = {'pair_style': 'aenet Cu.nn',\n",
    "              'pair_coeff': ['* *']}\n",
    "\n",
    "lammps = LAMMPS(parameters=parameters)\n",
    "\n",
    "# Describe the interatomic interactions with the Effective Medium Theory\n",
    "atoms.calc = lammps\n",
    "\n",
    "print(atoms.get_potential_energy())\n",
    "\n",
    "# Do a quick relaxation of the cluster\n",
    "\n",
    "# Set the momenta corresponding to T=1200K\n",
    "MaxwellBoltzmannDistribution(atoms, temperature_K=1200)\n",
    "Stationary(atoms)  # zero linear momentum\n",
    "ZeroRotation(atoms)  # zero angular momentum\n",
    "\n",
    "# We want to run MD using the VelocityVerlet algorithm.\n",
    "\n",
    "# Save trajectory:\n",
    "dyn = VelocityVerlet(atoms, 5 * units.fs, trajectory='moldyn5.traj')\n",
    "\n",
    "\n",
    "def printenergy(a=atoms):  # store a reference to atoms in the definition.\n",
    "    \"\"\"Function to print the potential, kinetic and total energy.\"\"\"\n",
    "    epot = a.get_potential_energy() / len(a)\n",
    "    ekin = a.get_kinetic_energy() / len(a)\n",
    "    print('Energy per atom: Epot = %.3feV  Ekin = %.3feV (T=%3.0fK)  '\n",
    "          'Etot = %.3feV' % (epot, ekin, ekin / (1.5 * units.kB), epot + ekin))\n",
    "\n",
    "\n",
    "dyn.attach(printenergy, interval=10)\n",
    "\n",
    "# Now run the dynamics\n",
    "printenergy()\n",
    "dyn.run(2000)"
   ]
  },
  {
   "cell_type": "code",
   "execution_count": 29,
   "metadata": {},
   "outputs": [],
   "source": []
  },
  {
   "cell_type": "code",
   "execution_count": null,
   "metadata": {},
   "outputs": [],
   "source": []
  }
 ],
 "metadata": {
  "kernelspec": {
   "display_name": "bayes",
   "language": "python",
   "name": "python3"
  },
  "language_info": {
   "codemirror_mode": {
    "name": "ipython",
    "version": 3
   },
   "file_extension": ".py",
   "mimetype": "text/x-python",
   "name": "python",
   "nbconvert_exporter": "python",
   "pygments_lexer": "ipython3",
   "version": "3.11.3"
  },
  "orig_nbformat": 4
 },
 "nbformat": 4,
 "nbformat_minor": 2
}
